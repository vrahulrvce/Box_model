{
 "cells": [
  {
   "cell_type": "code",
   "execution_count": 2,
   "metadata": {},
   "outputs": [],
   "source": [
    "import matplotlib.pyplot as plt\n",
    "import numpy as np\n",
    "import pandas as pd\n",
    "import sys\n",
    "import os\n",
    "from sklearn.cluster import KMeans\n",
    "import seaborn as sb\n",
    "from scipy.stats import pearsonr\n"
   ]
  },
  {
   "cell_type": "code",
   "execution_count": null,
   "metadata": {},
   "outputs": [],
   "source": [
    "df = pd.read_excel('Combined_Data_DS1_DS2.xlsx')\n",
    "df.describe()"
   ]
  },
  {
   "cell_type": "code",
   "execution_count": null,
   "metadata": {},
   "outputs": [],
   "source": []
  },
  {
   "cell_type": "code",
   "execution_count": null,
   "metadata": {},
   "outputs": [],
   "source": [
    "df.hist(bins= 50 , figsize=(20,15))\n"
   ]
  },
  {
   "cell_type": "code",
   "execution_count": null,
   "metadata": {},
   "outputs": [],
   "source": [
    "df2 = df.filter(like = 'BCT', axis =1)\n",
    "\n",
    "df2_downsize = df2.head(200)\n",
    "\n",
    "df3 = df.filter(like = 'ECT', axis = 1)\n",
    "\n",
    "df3_downsize = df3.head(200)\n",
    "\n",
    "for i in range(1,6):\n",
    "    plt.scatter(df2_downsize[f\"BCT{i}\"], df3_downsize[f\"ECT{i}\"], color = 'blue')\n",
    "    plt.xlabel(f\"BCT{i}\")\n",
    "    plt.ylabel(f\"ECT{i}\")\n",
    "    plt.title(f\"Scatter plot of BCT{i} VS ECT{i}\")\n",
    "    plt.show()"
   ]
  },
  {
   "cell_type": "code",
   "execution_count": null,
   "metadata": {},
   "outputs": [],
   "source": [
    "for i in range(1,6):\n",
    "    sb.boxplot(y = df2_downsize[f\"BCT{i}\"])\n",
    "    plt.title(f\"box plot for titles {i}\")\n",
    "    plt.savefig(f\"boxplot_BCT{i}.png\")\n",
    "    plt.show()\n",
    "    \n",
    "for i in range(1,6):\n",
    "    sb.boxplot(y = df3_downsize[f\"ECT{i}\"])\n",
    "    plt.title(f\"box plot for titles {i}\")\n",
    "    plt.savefig(f\"boxplot_ECT{i}.png\")\n",
    "    plt.show()\n",
    "    "
   ]
  },
  {
   "cell_type": "code",
   "execution_count": null,
   "metadata": {},
   "outputs": [],
   "source": [
    "mc_df = df.filter(like = 'Speed_Act', axis = 1)\n",
    "mc_df.corr()\n",
    "mc_df_downsize = mc_df.head(600)\n",
    "bct_avg = df.filter(like= 'BCT_Avg', axis = 1)\n",
    "bct_avg.corr()\n",
    "bct_avg_downsize = bct_avg.head(600)\n",
    "plt.scatter(mc_df_downsize , bct_avg_downsize , color = 'blue')\n",
    "plt.xlabel('MC_speed')\n",
    "plt.ylabel('BCT_avg')\n",
    "plt.savefig('MC_speed vs BCT_avg')\n",
    "plt.show()\n",
    "\n",
    "\n"
   ]
  },
  {
   "cell_type": "code",
   "execution_count": null,
   "metadata": {},
   "outputs": [],
   "source": [
    "feedgap = df.filter(like = 'Feed_Roll_Gap')\n",
    "feedgap_downsize = feedgap.head(600)\n",
    "plt.scatter(feedgap_downsize , bct_avg_downsize , color = 'blue')\n",
    "plt.xlabel('Feedgap_downsize')\n",
    "plt.ylabel('BCT_avg')\n",
    "plt.savefig('Feedgap vs BCT_avg.png')\n",
    "plt.show()\n"
   ]
  },
  {
   "cell_type": "code",
   "execution_count": null,
   "metadata": {},
   "outputs": [],
   "source": [
    "finished_product=df.filter(like='Finished_Product_Wid')\n",
    "finished_product_downsize = feedgap.head(600)\n",
    "corr1 = finished_product_downsize.corrwith(bct_avg_downsize)\n",
    "plt.scatter(finished_product_downsize , bct_avg_downsize, color ='blue')\n",
    "plt.xlabel('Finished_product_wid')\n",
    "plt.ylabel('bct_avg')\n",
    "plt.savefig('finished_product_wid vs bct_avg')\n",
    "plt.show()\n",
    "print(df.columns)"
   ]
  },
  {
   "cell_type": "code",
   "execution_count": null,
   "metadata": {},
   "outputs": [],
   "source": [
    "print_cylinder = df.filter(like='Printing_Cylinder_Gap',axis=1)\n",
    "print_cylinder_downsize = print_cylinder.head(600)\n",
    "for i in range(1,5):\n",
    "    plt.scatter(print_cylinder_downsize[f\"Printing_Cylinder_Gap_{i}\"], bct_avg_downsize, color = 'blue')\n",
    "    plt.xlabel(f\"print_cylinder_downsize{i}\")\n",
    "    plt.ylabel(f\"ECT{i}\")\n",
    "    plt.title(f\"Scatter plot of Print_cyclinder_gap{i} VS BCT_avg{i}\")\n",
    "    plt.savefig(f\"Scatter plot of Print_cyclinder_gap{i} VS BCT_avg.png\")\n",
    "    plt.show()\n"
   ]
  },
  {
   "cell_type": "code",
   "execution_count": null,
   "metadata": {},
   "outputs": [],
   "source": [
    "df = df.apply(pd.to_numeric, errors='coerce')\n",
    "df1_temp =df.corr().filter(like='Print',axis=0).filter(like='ECT',axis=1)\n",
    "print(df1_temp)\n",
    "\"\"\"corr_coef, _ = pearsonr(df1_temp.index, df1_temp.columns)\n",
    "\n",
    "# Plot scatter plot with seaborn\n",
    "plt.figure(figsize=(8, 6))\n",
    "sb.scatterplot(x='x', y='y', data=df, color='blue')\n",
    "\n",
    "# Add correlation coefficient to the plot\n",
    "plt.text(0.05, 1.9, f'Pearson Correlation: {corr_coef:.2f}', fontsize=12, color='red')\n",
    "\n",
    "# Add labels and title\n",
    "plt.title('Scatter Plot with Correlation Coefficient')\n",
    "plt.xlabel('X values')\n",
    "plt.ylabel('Y values')\n",
    "\n",
    "# Show the plot\n",
    "plt.grid(True)\n",
    "plt.show()\"\"\"\n",
    "df1_temp.to_excel('test.xlsx')"
   ]
  },
  {
   "cell_type": "code",
   "execution_count": null,
   "metadata": {},
   "outputs": [],
   "source": [
    "df = df.apply(pd.to_numeric, errors='coerce')\n",
    "df2_temp =df.corr().filter(like='BCT',axis=0).filter(like='ECT',axis=1)\n",
    "bct_avg_compare = df.filter(like='BCT_Avg' , axis=1)\n",
    "ect_avg_compare = df.filter(like='ECT_Avg', axis =1)\n",
    "print(bct_avg_compare)\n",
    "print(ect_avg_compare)\n",
    "print(bct_avg_compare.corrwith(ect_avg_compare, axis= 1))\n",
    "out2 = bct_avg_compare.corrwith(ect_avg_compare, axis= 1)\n",
    "out2.to_excel(\"test2.xlsx\")\n",
    "\"\"\"corr_coef, _ = pearsonr(df1_temp.index, df1_temp.columns)\n",
    "\n",
    "# Plot scatter plot with seaborn\n",
    "plt.figure(figsize=(8, 6))\n",
    "sb.scatterplot(x='x', y='y', data=df, color='blue')\n",
    "\n",
    "# Add correlation coefficient to the plot\n",
    "plt.text(0.05, 1.9, f'Pearson Correlation: {corr_coef:.2f}', fontsize=12, color='red')\n",
    "\n",
    "# Add labels and title\n",
    "plt.title('Scatter Plot with Correlation Coefficient')\n",
    "plt.xlabel('X values')\n",
    "plt.ylabel('Y values')\n",
    "\n",
    "# Show the plot\n",
    "plt.grid(True)\n",
    "plt.show()\"\"\"\n"
   ]
  },
  {
   "cell_type": "code",
   "execution_count": null,
   "metadata": {},
   "outputs": [],
   "source": [
    "finished_product_hig=df.filter(like='Finished_Product_Hig')\n",
    "finished_product_hig_downsize = feedgap.head(600)\n",
    "corr1 = finished_product_hig_downsize.corrwith(bct_avg_downsize)\n",
    "plt.scatter(bct_avg_downsize, finished_product_downsize , color ='blue')\n",
    "plt.xlabel('Finished_product_Hig')\n",
    "plt.ylabel('bct_avg')\n",
    "plt.savefig('finished_product_hig vs bct_avg')\n",
    "plt.show()\n"
   ]
  },
  {
   "cell_type": "code",
   "execution_count": null,
   "metadata": {},
   "outputs": [],
   "source": [
    "finished_product_leg=df.filter(like='Finished_Product_Leg')\n",
    "finished_product_leg_downsize = feedgap.head(600)\n",
    "corr1 = finished_product_leg_downsize.corrwith(bct_avg_downsize)\n",
    "plt.scatter(finished_product_leg_downsize , bct_avg_downsize, color ='blue')\n",
    "plt.xlabel('Finished_product_Leg')\n",
    "plt.ylabel('bct_avg')\n",
    "plt.savefig('finished_product_Leg vs bct_avg')\n",
    "plt.show()\n",
    "df.columns"
   ]
  },
  {
   "cell_type": "code",
   "execution_count": null,
   "metadata": {},
   "outputs": [],
   "source": [
    "\n",
    "Raw_Mat_strength = df.filter(like='Raw_Mat_Strength_Additive_Percent',axis =1)\n",
    "finished_product_hig_downsize = feedgap.head(600)\n",
    "Raw_Mat_strength_downsize = Raw_Mat_strength.head(600)\n",
    "plt.scatter(Raw_Mat_strength_downsize,finished_product_downsize,color ='blue')\n",
    "plt.xlabel('Raw_mat_strength_downsize')\n",
    "plt.ylabel('finished_product')\n",
    "plt.savefig('Raw_mat_strength_downsize vs finished_product')\n",
    "plt.show()\n",
    "print(Raw_Mat_strength_downsize)"
   ]
  },
  {
   "cell_type": "code",
   "execution_count": null,
   "metadata": {},
   "outputs": [],
   "source": []
  }
 ],
 "metadata": {
  "kernelspec": {
   "display_name": "datamining",
   "language": "python",
   "name": "python3"
  },
  "language_info": {
   "codemirror_mode": {
    "name": "ipython",
    "version": 3
   },
   "file_extension": ".py",
   "mimetype": "text/x-python",
   "name": "python",
   "nbconvert_exporter": "python",
   "pygments_lexer": "ipython3",
   "version": "3.12.4"
  }
 },
 "nbformat": 4,
 "nbformat_minor": 2
}
