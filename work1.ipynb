{
 "cells": [
  {
   "cell_type": "code",
   "execution_count": 124,
   "metadata": {},
   "outputs": [],
   "source": [
    "import matplotlib.pyplot as plt\n",
    "import numpy as np\n",
    "import pandas as pd\n",
    "import sys\n",
    "import os\n",
    "from sklearn.cluster import KMeans\n",
    "import seaborn as sb\n",
    "from scipy.stats import pearsonr\n",
    "from sklearn.preprocessing import StandardScaler\n",
    "import networkx as nx\n",
    "from mlxtend.frequent_patterns import apriori, association_rules, fpgrowth"
   ]
  },
  {
   "cell_type": "code",
   "execution_count": 125,
   "metadata": {},
   "outputs": [],
   "source": [
    "df =pd.read_excel('cylinder4.xlsx')"
   ]
  },
  {
   "cell_type": "code",
   "execution_count": null,
   "metadata": {},
   "outputs": [],
   "source": [
    "df.columns"
   ]
  },
  {
   "cell_type": "code",
   "execution_count": null,
   "metadata": {},
   "outputs": [],
   "source": [
    "df['BCT1'].drop\n",
    "df['BCT2'].drop\n",
    "df['BCT3'].drop\n",
    "df['BCT4'].drop\n",
    "df['BCT5'].drop\n",
    "df['ECT1'].drop\n",
    "df['ECT2'].drop\n",
    "df['ECT3'].drop\n",
    "df['ECT4'].drop\n",
    "df['ECT5'].drop\n",
    "df['ï»¿Ã¯Â»Â¿Index'].drop\n",
    "df['Rwf'].drop\n",
    "df['SKU'].drop\n"
   ]
  },
  {
   "cell_type": "code",
   "execution_count": 127,
   "metadata": {},
   "outputs": [],
   "source": [
    "### Rule for the generating which product can be made and which cant be \n",
    "df['rules'] = ((df['BCT_Avg'] < df['BCT_Spec']) & ((((df['BCT_Avg'] - df['BCT_Spec'])/df['BCT_Spec'])*100) < 0.03)).astype(int)\n"
   ]
  },
  {
   "cell_type": "code",
   "execution_count": 128,
   "metadata": {},
   "outputs": [],
   "source": [
    "df['Finished_Product_Hig'] = (((300<df['Finished_Product_Hig']) & (df['Finished_Product_Hig']<600))).astype(int)\n",
    "\n"
   ]
  },
  {
   "cell_type": "code",
   "execution_count": null,
   "metadata": {},
   "outputs": [],
   "source": [
    "df1 = df.filter(like='Printing_Cylinder_Gap', axis=1)\n",
    "df1.columns\n",
    "\n",
    "list1 = list(df1)\n",
    "for i in list1:\n",
    "    df1[f\"Range_0_to_1_{i}\"] = (((0<df[i]) & (df[i]<=1))).astype(int)\n",
    "    df1[f\"Range_1_to_2_{i}\"] = (((1<df[i]) & (df[i]<=2))).astype(int)\n",
    "    df1[f\"Range_2_to_3_{i}\"] = (((2<df[i]) & (df[i]<=3))).astype(int)\n",
    "    df1[f\"Range_3_to_4_{i}\"] = (((3<df[i]) & (df[i]<=4))).astype(int)\n",
    "df1['Finished_Product_Hig'] = df['Finished_Product_Hig'].copy()\n",
    "df1['speed_act'] =(df['Speed_Act']<350).astype(int)\n",
    "   \n"
   ]
  },
  {
   "cell_type": "code",
   "execution_count": null,
   "metadata": {},
   "outputs": [],
   "source": [
    "### RAW_Mat_Strength_type\n",
    "df.columns"
   ]
  },
  {
   "cell_type": "code",
   "execution_count": null,
   "metadata": {},
   "outputs": [],
   "source": [
    "df3= df.filter(like = 'Raw_Mat_Strength_Type', axis =1)\n",
    "df3.head(10)"
   ]
  },
  {
   "cell_type": "code",
   "execution_count": null,
   "metadata": {},
   "outputs": [],
   "source": [
    "df4 = df.filter(like = 'ECT_Avg' , axis=1)\n",
    "df4.head(2)"
   ]
  },
  {
   "cell_type": "code",
   "execution_count": null,
   "metadata": {},
   "outputs": [],
   "source": [
    "df1['ECT_Avg'] = (df4['ECT_Avg'] > 1.98).astype(int)"
   ]
  },
  {
   "cell_type": "code",
   "execution_count": null,
   "metadata": {},
   "outputs": [],
   "source": [
    "df1['Raw_Mat_Strength_Type_B'] = (df3['Raw_Mat_Strength_Type'] == 'B').astype(int)\n",
    "df1['Raw_Mat_Strength_Type_BC'] = (df3['Raw_Mat_Strength_Type'] == 'BC').astype(int)\n",
    "df1['Raw_Mat_Strength_Type_C'] = (df3['Raw_Mat_Strength_Type'] == 'C').astype(int)"
   ]
  },
  {
   "cell_type": "code",
   "execution_count": null,
   "metadata": {},
   "outputs": [],
   "source": [
    "df1.columns"
   ]
  },
  {
   "cell_type": "code",
   "execution_count": null,
   "metadata": {},
   "outputs": [],
   "source": [
    "df1['rules'] = df['rules'].copy()\n",
    "#df1.drop('rules', axis=1,inplace=True)\n",
    "#### uncomment if the rules is not the last column as this plays vital role"
   ]
  },
  {
   "cell_type": "code",
   "execution_count": null,
   "metadata": {},
   "outputs": [],
   "source": [
    "\"\"\"df1.drop('Printing_Cylinder_Gap_1', axis=1,inplace=True)\n",
    "df1.drop('Printing_Cylinder_Gap_2', axis=1,inplace=True)\n",
    "df1.drop('Printing_Cylinder_Gap_3', axis=1,inplace=True)\n",
    "df1.drop('Printing_Cylinder_Gap_4', axis=1,inplace=True)\n",
    "\"\"\"\n",
    "### Uncomment if the DF1 contains the specified columns "
   ]
  },
  {
   "cell_type": "code",
   "execution_count": null,
   "metadata": {},
   "outputs": [],
   "source": [
    "df1.head(1)"
   ]
  },
  {
   "cell_type": "code",
   "execution_count": 155,
   "metadata": {},
   "outputs": [],
   "source": [
    "#df1.to_excel('bin_data_4.xlsx')\n",
    "### Uncomment to use this feature"
   ]
  },
  {
   "cell_type": "code",
   "execution_count": null,
   "metadata": {},
   "outputs": [],
   "source": [
    "df1.head(200)"
   ]
  },
  {
   "cell_type": "code",
   "execution_count": null,
   "metadata": {},
   "outputs": [],
   "source": [
    "##################################################### ANALYSIS #######################################################################"
   ]
  },
  {
   "cell_type": "code",
   "execution_count": null,
   "metadata": {},
   "outputs": [],
   "source": []
  },
  {
   "cell_type": "code",
   "execution_count": null,
   "metadata": {},
   "outputs": [],
   "source": [
    "freq_items = apriori(df1, min_support=0.3, use_colnames=True, verbose=1)\n",
    "rules = association_rules(freq_items , metric='confidence' , min_threshold=0.5)\n",
    "p = nx.DiGraph()\n",
    "for idx , rule in rules.iterrows():\n",
    "    antecedents = tuple(rule['antecedents']) \n",
    "    consequents = tuple(rule['consequents'])\n",
    "    confidence = rule['confidence']\n",
    "    p.add_edge(antecedents, consequents, weight = confidence)\n",
    "plt.figure(figsize=(30,30))\n",
    "pos = nx.spring_layout(p, k = 0.5 , iterations=50)\n",
    "nx.draw(p,pos,with_labels = True , node_size = 2000, node_color = 'lightblue',font_size = 20, font_weight = 'bold',edge_color='grey')\n",
    "edge_labels = nx.get_edge_attributes(p, 'weight')\n",
    "nx.draw_networkx_edge_labels(p, pos, edge_labels=edge_labels)\n",
    "plt.title('Network Graph of Association Rules')\n",
    "plt.show()"
   ]
  },
  {
   "cell_type": "code",
   "execution_count": null,
   "metadata": {},
   "outputs": [],
   "source": [
    "df11 = pd.read_excel('nine_data.xlsx')\n",
    "freq_items = apriori(df11, min_support=0.3, use_colnames=True, verbose=1)\n",
    "rules = association_rules(freq_items , metric='confidence' , min_threshold=0.5)\n",
    "p = nx.DiGraph()\n",
    "for idx , rule in rules.iterrows():\n",
    "    antecedents = tuple(rule['antecedents']) \n",
    "    consequents = tuple(rule['consequents'])\n",
    "    confidence = rule['confidence']\n",
    "    p.add_edge(antecedents, consequents, weight = confidence)\n",
    "plt.figure(figsize=(30,30))\n",
    "pos = nx.spring_layout(p, k = 0.5 , iterations=50)\n",
    "nx.draw(p,pos,with_labels = True , node_size = 2000, node_color = 'lightblue',font_size = 20, font_weight = 'bold',edge_color='grey')\n",
    "edge_labels = nx.get_edge_attributes(p, 'weight')\n",
    "nx.draw_networkx_edge_labels(p, pos, edge_labels=edge_labels)\n",
    "plt.title('Network Graph of Association Rules')\n",
    "plt.show()"
   ]
  }
 ],
 "metadata": {
  "kernelspec": {
   "display_name": "datamining",
   "language": "python",
   "name": "python3"
  },
  "language_info": {
   "codemirror_mode": {
    "name": "ipython",
    "version": 3
   },
   "file_extension": ".py",
   "mimetype": "text/x-python",
   "name": "python",
   "nbconvert_exporter": "python",
   "pygments_lexer": "ipython3",
   "version": "3.12.4"
  }
 },
 "nbformat": 4,
 "nbformat_minor": 2
}
